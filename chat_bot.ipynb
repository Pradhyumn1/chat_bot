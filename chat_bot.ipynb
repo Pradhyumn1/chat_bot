{
  "nbformat": 4,
  "nbformat_minor": 0,
  "metadata": {
    "colab": {
      "provenance": [],
      "authorship_tag": "ABX9TyOjmbpBSkqs2sCkaisImY2t",
      "include_colab_link": true
    },
    "kernelspec": {
      "name": "python3",
      "display_name": "Python 3"
    },
    "language_info": {
      "name": "python"
    }
  },
  "cells": [
    {
      "cell_type": "markdown",
      "metadata": {
        "id": "view-in-github",
        "colab_type": "text"
      },
      "source": [
        "<a href=\"https://colab.research.google.com/github/Pradhyumn1/chat_bot/blob/main/chat_bot.ipynb\" target=\"_parent\"><img src=\"https://colab.research.google.com/assets/colab-badge.svg\" alt=\"Open In Colab\"/></a>"
      ]
    },
    {
      "cell_type": "code",
      "execution_count": 1,
      "metadata": {
        "id": "O56_SYMP4uwp"
      },
      "outputs": [],
      "source": [
        "import torch\n",
        "import torch.nn as nn\n",
        "import numpy as np\n",
        "from torch.utils.data import Dataset, DataLoader\n",
        "from nltk.stem.porter import PorterStemmer\n",
        "import string\n",
        "import random"
      ]
    },
    {
      "cell_type": "markdown",
      "source": [
        "**Dataset**"
      ],
      "metadata": {
        "id": "TJFFVx2k5D8a"
      }
    },
    {
      "cell_type": "code",
      "source": [
        "# Define the intents\n",
        "intents = {\n",
        "    'greeting': {\n",
        "        'patterns': ['Namaste', 'Hello', 'Hi'],\n",
        "        'responses': ['Namaste!', 'Hello, how can I assist you?']\n",
        "    },\n",
        "    'goodbye': {\n",
        "        'patterns': ['Alvida', 'Goodbye'],\n",
        "        'responses': ['Alvida, have a great day!', 'Goodbye, take care.']\n",
        "    },\n",
        "    'booking': {\n",
        "        'patterns': ['I want to book a room', 'Can I make a reservation?'],\n",
        "        'responses': ['Certainly! Please provide your details for the reservation.']\n",
        "    },\n",
        "    'reservations': {\n",
        "        'patterns': ['my room11','room 12', ' 12 room reservation?'],\n",
        "        'responses': ['Yes ! Your confim reservation.', 'Thanks for visitng']\n",
        "    },\n",
        "    'cancellation': {\n",
        "        'patterns': ['I want to cancel my booking', 'Can I cancel a reservation?'],\n",
        "        'responses': ['Sure, please provide your reservation reference number.']\n",
        "    },\n",
        "    'location': {\n",
        "        'patterns': ['Where is the hotel located?', 'Can you give me the address?'],\n",
        "        'responses': ['The hotel is located in the heart of Mumbai at XYZ Street.']\n",
        "    },\n",
        "    'contacts': {\n",
        "        'patterns': ['I want to contact the hotel', 'How can I reach the customer service?'],\n",
        "        'responses': ['Certainly! You can reach us at customer.service@hotelindia.com.']\n",
        "    }\n",
        "}"
      ],
      "metadata": {
        "id": "w9NBacby5ICK"
      },
      "execution_count": 7,
      "outputs": []
    },
    {
      "cell_type": "markdown",
      "source": [
        "**Preprocessing**"
      ],
      "metadata": {
        "id": "DxM2AXC35tbx"
      }
    },
    {
      "cell_type": "code",
      "source": [
        "stemmer = PorterStemmer()\n",
        "\n",
        "all_words = []\n",
        "tags = []\n",
        "xy = []\n",
        "\n",
        "for intent, data in intents.items():\n",
        "    tag = intent\n",
        "    tags.append(tag)\n",
        "    for pattern in data['patterns']:\n",
        "        words = [stemmer.stem(word.lower()) for word in pattern.split()]\n",
        "        all_words.extend(words)\n",
        "        xy.append((words, tag))\n",
        "\n",
        "all_words = sorted(set(all_words))\n",
        "tags = sorted(set(tags))\n"
      ],
      "metadata": {
        "id": "qgTYmrqC5qYS"
      },
      "execution_count": 8,
      "outputs": []
    },
    {
      "cell_type": "markdown",
      "source": [
        "**Training**"
      ],
      "metadata": {
        "id": "TzcjIm516PT-"
      }
    },
    {
      "cell_type": "code",
      "source": [
        "# Create training data\n",
        "X_train = []\n",
        "y_train = []\n",
        "\n",
        "for (pattern, tag) in xy:\n",
        "    bag = [1 if stemmer.stem(word) in pattern else 0 for word in all_words]\n",
        "    X_train.append(bag)\n",
        "    y_train.append(tags.index(tag))\n",
        "\n",
        "X_train = np.array(X_train)\n",
        "y_train = np.array(y_train)\n",
        "\n",
        "# Save the processed data\n",
        "np.save('X_train.npy', X_train)\n",
        "np.save('y_train.npy', y_train)"
      ],
      "metadata": {
        "id": "srS5THQS6Nwd"
      },
      "execution_count": 9,
      "outputs": []
    },
    {
      "cell_type": "markdown",
      "source": [
        "**Modeling**"
      ],
      "metadata": {
        "id": "7h5EfOw16m42"
      }
    },
    {
      "cell_type": "code",
      "source": [
        "# Model Definition\n",
        "class SimpleChatBot(nn.Module):\n",
        "    def __init__(self, input_size, output_size):\n",
        "        super(SimpleChatBot, self).__init__()\n",
        "        self.fc = nn.Linear(input_size, output_size)\n",
        "\n",
        "    def forward(self, x):\n",
        "        return self.fc(x)\n",
        "\n",
        "# Training\n",
        "class ChatDataset(Dataset):\n",
        "    def __init__(self, X_train, y_train):\n",
        "        self.n_samples = len(X_train)\n",
        "        self.x_data = torch.tensor(X_train, dtype=torch.float32)\n",
        "        self.y_data = torch.tensor(y_train, dtype=torch.long)\n",
        "\n",
        "    def __getitem__(self, index):\n",
        "        return self.x_data[index], self.y_data[index]\n",
        "\n",
        "    def __len__(self):\n",
        "        return self.n_samples\n",
        "\n",
        "# Hyperparameters\n",
        "input_size = len(all_words)\n",
        "output_size = len(tags)\n",
        "learning_rate = 0.001\n",
        "num_epochs = 1000\n",
        "\n",
        "# Instantiate the model\n",
        "model = SimpleChatBot(input_size, output_size)\n",
        "\n",
        "# Loss and optimizer\n",
        "criterion = nn.CrossEntropyLoss()\n",
        "optimizer = torch.optim.Adam(model.parameters(), lr=learning_rate)\n",
        "\n",
        "# Create DataLoader\n",
        "dataset = ChatDataset(X_train, y_train)\n",
        "train_loader = DataLoader(dataset=dataset, batch_size=8, shuffle=True)\n",
        "\n",
        "# Training loop\n",
        "for epoch in range(num_epochs):\n",
        "    for inputs, labels in train_loader:\n",
        "        outputs = model(inputs)\n",
        "        loss = criterion(outputs, labels)\n",
        "        optimizer.zero_grad()\n",
        "        loss.backward()\n",
        "        optimizer.step()\n",
        "\n",
        "    if (epoch + 1) % 100 == 0:\n",
        "        print(f'Epoch [{epoch+1}/{num_epochs}], Loss: {loss.item():.4f}')\n",
        "\n",
        "# Save the trained model\n",
        "torch.save(model.state_dict(), 'chatbot_model.pth')\n"
      ],
      "metadata": {
        "colab": {
          "base_uri": "https://localhost:8080/"
        },
        "id": "GjyJ0X5p6jlw",
        "outputId": "8abab5d7-6f35-4b93-8eed-dd9b4139c9fb"
      },
      "execution_count": 10,
      "outputs": [
        {
          "output_type": "stream",
          "name": "stdout",
          "text": [
            "Epoch [100/1000], Loss: 1.3531\n",
            "Epoch [200/1000], Loss: 0.9504\n",
            "Epoch [300/1000], Loss: 0.8422\n",
            "Epoch [400/1000], Loss: 0.6434\n",
            "Epoch [500/1000], Loss: 0.3570\n",
            "Epoch [600/1000], Loss: 0.3861\n",
            "Epoch [700/1000], Loss: 0.2467\n",
            "Epoch [800/1000], Loss: 0.1436\n",
            "Epoch [900/1000], Loss: 0.2907\n",
            "Epoch [1000/1000], Loss: 0.2559\n"
          ]
        }
      ]
    },
    {
      "cell_type": "markdown",
      "source": [
        "**chat with Bot**"
      ],
      "metadata": {
        "id": "B8YI0ytN6uaW"
      }
    },
    {
      "cell_type": "code",
      "source": [
        "# Chat with the bot\n",
        "model.load_state_dict(torch.load('chatbot_model.pth'))\n",
        "model.eval()\n",
        "\n",
        "print(\"Let's chat: type 'quit' to exit\")\n",
        "while True:\n",
        "    user_input = input('You: ')\n",
        "    if user_input.lower() == 'quit':\n",
        "        break\n",
        "\n",
        "    words = [stemmer.stem(word.lower()) for word in user_input.split()]\n",
        "    input_vector = [1 if stemmer.stem(word) in words else 0 for word in all_words]\n",
        "    input_tensor = torch.tensor(input_vector, dtype=torch.float32).unsqueeze(0)\n",
        "\n",
        "    # Get the model prediction\n",
        "    with torch.no_grad():\n",
        "        output = model(input_tensor)\n",
        "        _, predicted = torch.max(output, 1)\n",
        "        tag = tags[predicted.item()]\n",
        "\n",
        "    if tag in intents:\n",
        "        response = random.choice(intents[tag]['responses'])\n",
        "        print(f'Bot: {response}')\n",
        "    else:\n",
        "        print(\"Bot: I'm not sure how to respond to that.\")\n"
      ],
      "metadata": {
        "colab": {
          "base_uri": "https://localhost:8080/"
        },
        "id": "NtNTtU7p6tHA",
        "outputId": "517719cb-0400-4274-c654-f5c98cbd2bda"
      },
      "execution_count": 11,
      "outputs": [
        {
          "name": "stdout",
          "output_type": "stream",
          "text": [
            "Let's chat: type 'quit' to exit\n",
            "You: hello\n",
            "Bot: Hello, how can I assist you?\n",
            "You: hii\n",
            "Bot: Hello, how can I assist you?\n",
            "You: king\n",
            "Bot: Hello, how can I assist you?\n",
            "You: i want a room\n",
            "Bot: Certainly! Please provide your details for the reservation.\n",
            "You: 12 room\n",
            "Bot: Thanks for visitng\n",
            "You: provide address\n",
            "Bot: Hello, how can I assist you?\n",
            "You: where is hotel located\n",
            "Bot: The hotel is located in the heart of Mumbai at XYZ Street.\n",
            "You: i want to contact hotel\n",
            "Bot: Certainly! You can reach us at customer.service@hotelindia.com.\n",
            "You: can you cancle my reservation\n",
            "Bot: Yes ! Your confim reservation.\n",
            "You: nameste\n",
            "Bot: Hello, how can I assist you?\n",
            "You: exit\n",
            "Bot: Hello, how can I assist you?\n",
            "You: quit\n"
          ]
        }
      ]
    }
  ]
}